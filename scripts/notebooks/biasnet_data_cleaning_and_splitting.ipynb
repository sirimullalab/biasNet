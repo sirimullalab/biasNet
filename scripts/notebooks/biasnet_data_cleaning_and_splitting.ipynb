{
 "cells": [
  {
   "cell_type": "markdown",
   "metadata": {},
   "source": [
    "## Data cleaning and splitting of data into train and test"
   ]
  },
  {
   "cell_type": "code",
   "execution_count": 1,
   "metadata": {},
   "outputs": [],
   "source": [
    "import pandas as pd\n",
    "from sklearn.model_selection import train_test_split\n",
    "from tqdm import tqdm_notebook"
   ]
  },
  {
   "cell_type": "code",
   "execution_count": 2,
   "metadata": {},
   "outputs": [
    {
     "name": "stdout",
     "output_type": "stream",
     "text": [
      "Total initial of the data is 437\n",
      "Total duplicates removed 59\n",
      "Final length of dataset 376\n"
     ]
    }
   ],
   "source": [
    "# Loading the main data file\n",
    "df = pd.read_csv('../data/b_g_labels.csv')\n",
    "print(f'Total initial of the data is {len(df)}')\n",
    "# Remove the duplicate rows\n",
    "ndf = df.drop_duplicates()\n",
    "print(f'Total duplicates removed {len(df)-len(ndf)}')\n",
    "# Remove if any SMILE is assigned with two different labels\n",
    "ndf = ndf.drop_duplicates(subset=['Smiles'], keep='first')\n",
    "print(f'Final length of dataset {len(ndf)}')"
   ]
  },
  {
   "cell_type": "markdown",
   "metadata": {},
   "source": [
    "### Convertion of SMILES into Canonical SMILES"
   ]
  },
  {
   "cell_type": "code",
   "execution_count": 3,
   "metadata": {},
   "outputs": [
    {
     "name": "stderr",
     "output_type": "stream",
     "text": [
      "/Users/gvin/anaconda3/lib/python3.7/site-packages/ipykernel_launcher.py:5: TqdmDeprecationWarning: This function will be removed in tqdm==5.0.0\n",
      "Please use `tqdm.notebook.tqdm` instead of `tqdm.tqdm_notebook`\n",
      "  \"\"\"\n"
     ]
    },
    {
     "data": {
      "application/vnd.jupyter.widget-view+json": {
       "model_id": "bb9060dff8414b59a95daf7fd226cac3",
       "version_major": 2,
       "version_minor": 0
      },
      "text/plain": [
       "HBox(children=(FloatProgress(value=0.0, max=376.0), HTML(value='')))"
      ]
     },
     "metadata": {},
     "output_type": "display_data"
    },
    {
     "name": "stdout",
     "output_type": "stream",
     "text": [
      "\n",
      "CPU times: user 477 ms, sys: 33.5 ms, total: 510 ms\n",
      "Wall time: 537 ms\n"
     ]
    }
   ],
   "source": [
    "%%time\n",
    "smiles = ndf['Smiles'].tolist()\n",
    "not_converted = []\n",
    "Canonical_smiles= []\n",
    "from rdkit import Chem\n",
    "for i in tqdm_notebook(range(len(smiles))):\n",
    "    try:\n",
    "        mol = Chem.MolFromSmiles(smiles[i])\n",
    "        Cano_Smiles = Chem.MolToSmiles(mol, True)\n",
    "        Canonical_smiles.append(Cano_Smiles)\n",
    "    except:\n",
    "        Canonical_smiles.append('-')\n",
    "        not_converted.append(i)\n",
    "        pass"
   ]
  },
  {
   "cell_type": "code",
   "execution_count": 4,
   "metadata": {},
   "outputs": [
    {
     "name": "stdout",
     "output_type": "stream",
     "text": [
      "                                              Smiles  \\\n",
      "0  BrC1=CC=C(C(C)N2CCC(CC2)N3C(NC4=CC=CC=C43)=O)C...   \n",
      "1  BrC1=CC=C(CN2CCC(CC2)N3C(NC4=C(C(Cl)=CC(Cl)=C3...   \n",
      "2  BrC1=CC=C(CN2CCC(CC2)N3C(NC4=C(C=C(C=C34)Cl)Cl...   \n",
      "\n",
      "                                    Canonical_Smiles  Labels  \n",
      "0    CC(c1ccc(Br)cc1F)N1CCC(n2c(=O)[nH]c3ccccc32)CC1       0  \n",
      "1  O=c1[nH]c2c(Cl)c(Cl)cc(Cl)c2n1C1CCN(Cc2ccc(Br)...       0  \n",
      "2  O=c1[nH]c2c(Cl)cc(Cl)cc2n1C1CCN(Cc2ccc(Br)cc2F...       0  \n"
     ]
    }
   ],
   "source": [
    "ndf.insert(loc=1, column='Canonical_Smiles', value=Canonical_smiles)\n",
    "print(ndf.head(3))\n",
    "ndf.drop(not_converted, axis=0,inplace=True)\n",
    "ndf.reset_index(drop=True, inplace=True)\n",
    "# Saving the data containing Canonical Smiles\n",
    "ndf.to_csv('data/b_g_labels_clean.csv')"
   ]
  },
  {
   "cell_type": "markdown",
   "metadata": {},
   "source": [
    "### Stratified splitting"
   ]
  },
  {
   "cell_type": "code",
   "execution_count": 5,
   "metadata": {},
   "outputs": [
    {
     "name": "stdout",
     "output_type": "stream",
     "text": [
      "total data 376\n",
      "type <class 'numpy.ndarray'>\n",
      "y_test_positive_percentage 19.841269841269842\n",
      "y_test_negative_percentage 20.4\n",
      "Training length 300\n",
      "Test length 76\n",
      "Final total 376\n"
     ]
    }
   ],
   "source": [
    "data = pd.read_csv('data/b_g_labels_clean.csv', index_col = 0)\n",
    "print('total data', len(data))\n",
    "X = data.iloc[:,:-1].values\n",
    "y = data.iloc[:,-1].values\n",
    "x_train, x_test, y_train, y_test = train_test_split(X,y,test_size=0.20, random_state=1, stratify=y)\n",
    "print('type', type(x_train))\n",
    "total = sum(y_train)+sum(y_test)\n",
    "\n",
    "total_neg = len(y)-total\n",
    "\n",
    "print('y_test_positive_percentage', (sum(y_test)/total)*100)\n",
    "print('y_test_negative_percentage', ((len(y_test)-sum(y_test))/total_neg)*100)\n",
    "newTrain = []\n",
    "\n",
    "for i in range(len(x_train)):\n",
    "    newTrain.append(x_train[i][0])\n",
    "    \n",
    "print('Training length', len(newTrain))\n",
    "\n",
    "newdf = pd.DataFrame(list(zip(newTrain, y_train)), columns = ['Canonical_Smiles', 'Label'])\n",
    "newdf.to_csv('data/b_g_labels_clean_train.csv', index = False)\n",
    "newTest = []\n",
    "for j in range(len(x_test)):\n",
    "    newTest.append(x_test[j][0])\n",
    "\n",
    "print('Test length', len(newTest))\n",
    "\n",
    "\n",
    "newdf = pd.DataFrame(list(zip(newTest, y_test)), columns = ['Canonical_Smiles', 'Label'])\n",
    "newdf.to_csv('data/b_g_labels_clean_test.csv', index = False)\n",
    "\n",
    "print('Final total', len(newTrain)+len(newTest))\n",
    "\n"
   ]
  },
  {
   "cell_type": "code",
   "execution_count": null,
   "metadata": {},
   "outputs": [],
   "source": []
  }
 ],
 "metadata": {
  "kernelspec": {
   "display_name": "Python 3",
   "language": "python",
   "name": "python3"
  },
  "language_info": {
   "codemirror_mode": {
    "name": "ipython",
    "version": 3
   },
   "file_extension": ".py",
   "mimetype": "text/x-python",
   "name": "python",
   "nbconvert_exporter": "python",
   "pygments_lexer": "ipython3",
   "version": "3.7.0"
  }
 },
 "nbformat": 4,
 "nbformat_minor": 4
}
