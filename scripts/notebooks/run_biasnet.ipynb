{
 "cells": [
  {
   "cell_type": "markdown",
   "metadata": {},
   "source": [
    "### Run biasnet in Jupyter notebook"
   ]
  },
  {
   "cell_type": "code",
   "execution_count": 1,
   "metadata": {},
   "outputs": [],
   "source": [
    "import joblib, glob, os, sys,json\n",
    "from pprint import pprint\n",
    "import numpy as np, pandas as pd\n",
    "from hypopt import GridSearch\n",
    "from sklearn import metrics\n",
    "import matplotlib.pyplot as plt\n",
    "from matplotlib import pylab"
   ]
  },
  {
   "cell_type": "code",
   "execution_count": 2,
   "metadata": {},
   "outputs": [],
   "source": [
    "def get_results(y_test, y_pre, y_pro):\n",
    "    tn, fp, fn, tp = metrics.confusion_matrix(y_test, y_pre).ravel()\n",
    "    SP = float(tn)/(tn+fp)\n",
    "\n",
    "    results = {}\n",
    "    results['roc_auc'] = metrics.roc_auc_score(y_test, y_pro)\n",
    "    results['accuracy'] = metrics.accuracy_score(y_test, y_pre)\n",
    "    results['f1_score'] = metrics.f1_score(y_test, y_pre)# average='binary' by default\n",
    "    results['Recall'] = metrics.recall_score(y_test, y_pre)\n",
    "    results['Precision'] = metrics. precision_score(y_test, y_pre)\n",
    "    results['SP'] = SP\n",
    "    results['cohen_kappa'] = metrics.cohen_kappa_score(y_test, y_pre)\n",
    "    results['mcc'] = metrics.matthews_corrcoef(y_test, y_pre)\n",
    "    \n",
    "    return results\n",
    "\n",
    "def run_biasnet(features, models):\n",
    "    models = glob.glob(models+'/*')\n",
    "    avalon = np.load(features+'/'+'b_g_labels_clean_test_avalon_fp.npy')\n",
    "    lecfp4 = np.load(features+'/'+'b_g_labels_clean_test_lecfp4_fp.npy')\n",
    "    ecfp2 = np.load(features+'/'+'b_g_labels_clean_test_ecfp2_fp.npy')\n",
    "    \n",
    "    final_results = dict()\n",
    "    \n",
    "    avalon_x_test = avalon[:,:-1]\n",
    "    avalon_y_test = avalon[:,-1]\n",
    "    lecfp4_x_test = lecfp4[:,:-1]\n",
    "    lecfp4_y_test = lecfp4[:,-1]\n",
    "    ecfp2_x_test = ecfp2[:,:-1]\n",
    "    ecfp2_y_test = ecfp2[:,-1]\n",
    "    for m in models:\n",
    "        if m.endswith('rf'):\n",
    "            model = joblib.load(m)\n",
    "            y_pre = model.predict(avalon_x_test)\n",
    "            y_pro = model.predict_proba(avalon_x_test)[:, 1]\n",
    "            results = get_results(avalon_y_test, y_pre, y_pro)\n",
    "            final_results['RF'] = results\n",
    "        elif m.endswith('xgb'):\n",
    "            model = joblib.load(m)\n",
    "            y_pre = model.predict(avalon_x_test)\n",
    "            y_pro = model.predict_proba(avalon_x_test)[:, 1]\n",
    "            results = get_results(avalon_y_test, y_pre, y_pro)\n",
    "            final_results['XGB'] = results\n",
    "        elif m.endswith('svm'):\n",
    "            model = joblib.load(m)\n",
    "            y_pre = model.predict(ecfp2_x_test)\n",
    "            y_pro = model.predict_proba(ecfp2_x_test)[:, 1]\n",
    "            results = get_results(ecfp2_y_test, y_pre, y_pro)\n",
    "            final_results['SVM'] = results\n",
    "        else:\n",
    "            model = joblib.load(m)\n",
    "            y_pre = model.predict(lecfp4_x_test)\n",
    "            y_pro = model.predict_proba(lecfp4_x_test)[:, 1]\n",
    "            results = get_results(lecfp4_y_test, y_pre, y_pro)\n",
    "            final_results['MLP'] = results\n",
    "    return final_results\n",
    "    "
   ]
  },
  {
   "cell_type": "code",
   "execution_count": 3,
   "metadata": {},
   "outputs": [
    {
     "name": "stdout",
     "output_type": "stream",
     "text": [
      "{   'MLP': {   'Precision': 0.7407407407407407,\n",
      "               'Recall': 0.8,\n",
      "               'SP': 0.8627450980392157,\n",
      "               'accuracy': 0.8421052631578947,\n",
      "               'cohen_kappa': 0.649500384319754,\n",
      "               'f1_score': 0.7692307692307692,\n",
      "               'mcc': 0.6506114385895281,\n",
      "               'roc_auc': 0.8407843137254901},\n",
      "    'RF': {   'Precision': 0.782608695652174,\n",
      "              'Recall': 0.72,\n",
      "              'SP': 0.9019607843137255,\n",
      "              'accuracy': 0.8421052631578947,\n",
      "              'cohen_kappa': 0.6349079263410728,\n",
      "              'f1_score': 0.7499999999999999,\n",
      "              'mcc': 0.636086593313052,\n",
      "              'roc_auc': 0.8188235294117647},\n",
      "    'SVM': {   'Precision': 0.7142857142857143,\n",
      "               'Recall': 0.8,\n",
      "               'SP': 0.8431372549019608,\n",
      "               'accuracy': 0.8289473684210527,\n",
      "               'cohen_kappa': 0.6240487062404871,\n",
      "               'f1_score': 0.7547169811320756,\n",
      "               'mcc': 0.6264106396359443,\n",
      "               'roc_auc': 0.8580392156862745},\n",
      "    'XGB': {   'Precision': 0.782608695652174,\n",
      "               'Recall': 0.72,\n",
      "               'SP': 0.9019607843137255,\n",
      "               'accuracy': 0.8421052631578947,\n",
      "               'cohen_kappa': 0.6349079263410728,\n",
      "               'f1_score': 0.7499999999999999,\n",
      "               'mcc': 0.636086593313052,\n",
      "               'roc_auc': 0.8239215686274509}}\n"
     ]
    }
   ],
   "source": [
    "final_results = run_biasnet('../../numpyFiles', '../../models')\n",
    "pprint(final_results, indent=4)"
   ]
  },
  {
   "cell_type": "code",
   "execution_count": 4,
   "metadata": {},
   "outputs": [
    {
     "data": {
      "image/png": "[encoded data removed]",
      "text/plain": [
       "<Figure size 432x288 with 1 Axes>"
      ]
     },
     "metadata": {
      "needs_background": "light"
     },
     "output_type": "display_data"
    }
   ],
   "source": [
    "model_names = list(final_results.keys())\n",
    "precision, recall, sp, acc, kappa, f1, roc = [], [], [], [], [], [], []\n",
    "\n",
    "for i in model_names:\n",
    "    precision.append(final_results[i]['Precision'])\n",
    "    recall.append(final_results[i]['Recall'])\n",
    "    sp.append(final_results[i]['SP'])\n",
    "    f1.append(final_results[i]['f1_score'])\n",
    "    acc.append(final_results[i]['accuracy'])\n",
    "    kappa.append(final_results[i]['cohen_kappa'])\n",
    "    roc.append(final_results[i]['roc_auc'])\n",
    "\n",
    "plt.rc('xtick',labelsize=10)\n",
    "plt.scatter(model_names, f1, c='b',s=14, label='F1 score')\n",
    "plt.scatter(model_names, recall, c='g',s=14, label='Recall')\n",
    "plt.scatter(model_names, precision, c='k',s=14, label='Precision')\n",
    "plt.scatter(model_names, sp, c='y',s=14, label='Specificity')\n",
    "plt.scatter(model_names, acc, c='c',s=14, label='Accuracy')\n",
    "plt.scatter(model_names, kappa, c='m',s=14, label='Cohen Kappa')\n",
    "plt.scatter(model_names, roc, c='r',s=14, label='AUC')\n",
    "plt.title(\"Test set results\")\n",
    "plt.tight_layout()\n",
    "plt.legend(loc='lower left', bbox_to_anchor=(1, 0.5))\n",
    "plt.show()"
   ]
  },
  {
   "cell_type": "code",
   "execution_count": null,
   "metadata": {},
   "outputs": [],
   "source": []
  }
 ],
 "metadata": {
  "kernelspec": {
   "display_name": "biasnet",
   "language": "python",
   "name": "biasnet"
  },
  "language_info": {
   "codemirror_mode": {
    "name": "ipython",
    "version": 3
   },
   "file_extension": ".py",
   "mimetype": "text/x-python",
   "name": "python",
   "nbconvert_exporter": "python",
   "pygments_lexer": "ipython3",
   "version": "3.7.9"
  }
 },
 "nbformat": 4,
 "nbformat_minor": 2
}
